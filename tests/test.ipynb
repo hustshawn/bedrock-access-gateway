{
 "cells": [
  {
   "cell_type": "code",
   "execution_count": 15,
   "metadata": {},
   "outputs": [],
   "source": [
    "from langchain.agents import AgentExecutor, create_tool_calling_agent\n",
    "from langchain_core.messages import HumanMessage\n",
    "from langchain_core.prompts import *\n",
    "from langchain.tools import tool\n",
    "from langchain_openai import AzureOpenAIEmbeddings, AzureChatOpenAI\n",
    "from tenacity import retry, stop_after_attempt, wait_exponential\n",
    "\n",
    "@tool\n",
    "def trident_cve_tool(cve_id: str):\n",
    "    \"\"\"\n",
    "    This is a CVE tool to call trident CVE information.\n",
    "    It should be used to fetch general information of a specific cve (format like CVE-XXX-XXX).\n",
    "    The general information from Trident API includes:\n",
    "    cve id, name, description, update date, publish date and some other public available information.\n",
    "    \"\"\"\n",
    "    return str(\"Trident CVE data\")\n",
    "\n",
    "prompt = ChatPromptTemplate.from_messages(\n",
    "    [\n",
    "        SystemMessagePromptTemplate(\n",
    "            prompt=PromptTemplate(\n",
    "                input_variables=[\"cve_id\"],\n",
    "                template=\"You are a helpful assistant to explain a certain CVE {cve_id} in detail\",\n",
    "            )\n",
    "        ),\n",
    "        MessagesPlaceholder(variable_name=\"chat_history\", optional=True),\n",
    "        HumanMessagePromptTemplate(\n",
    "            prompt=PromptTemplate(\n",
    "                input_variables=[\"question\"],\n",
    "                template=\"Please answer this question: {question}\",\n",
    "            )\n",
    "        ),\n",
    "        MessagesPlaceholder(variable_name=\"agent_scratchpad\"),\n",
    "    ]\n",
    ")\n",
    "tools = [trident_cve_tool]\n",
    "\n",
    "@retry(stop=stop_after_attempt(3), wait=wait_exponential(multiplier=1, min=4, max=10))\n",
    "def create_llm():\n",
    "    return AzureChatOpenAI(\n",
    "        temperature=0.0,\n",
    "        azure_endpoint=\"http://localhost:8000\",\n",
    "        openai_api_key=\"bedrock\",\n",
    "        openai_api_version=\"2024-06-01\",\n",
    "        deployment_name=\"anthropic.claude-3-5-sonnet-20240620-v1:0\",    \n",
    "        # deployment_name=\"gpt-4o_2024-05-13\",\n",
    "        openai_api_type=\"azure\",\n",
    "    )\n",
    "\n",
    "\n"
   ]
  },
  {
   "cell_type": "code",
   "execution_count": 16,
   "metadata": {},
   "outputs": [
    {
     "name": "stdout",
     "output_type": "stream",
     "text": [
      "\n",
      "\n",
      "\u001b[1m> Entering new AgentExecutor chain...\u001b[0m\n",
      "\u001b[32;1m\u001b[1;3m\n",
      "Invoking: `trident_cve_tool` with `{'cve_id': 'CVE-2020-17087'}`\n",
      "\n",
      "\n",
      "\u001b[0m\u001b[36;1m\u001b[1;3mTrident CVE data\u001b[0m\u001b[32;1m\u001b[1;3m\n",
      "\n",
      "CVE-2020-17087 is a vulnerability in the Linux kernel's VFIO device driver that could allow a privileged user to escalate privileges or cause a denial of service on the system.\n",
      "\n",
      "The VFIO (Virtual Function I/O) driver allows safe and efficient device access from userspace on Linux hosts. This vulnerability is a use-after-free issue that could occur when removing a VFIO device. An unprivileged user with access to a VFIO device could potentially exploit this to gain elevated privileges on the system.\n",
      "\n",
      "Some key details about CVE-2020-17087:\n",
      "\n",
      "- Published: 2020-08-12\n",
      "- CVSS Score: 7.8 (High severity)\n",
      "- Affects: Linux kernel versions 5.4 through 5.8.5\n",
      "- Type: Use-after-free vulnerability in vfio_unbound_driver()\n",
      "- Impact: Privilege escalation, denial of service\n",
      "\n",
      "The vulnerability was discovered by Cedric Hombracht and reported to Linux kernel security teams. It was patched in Linux kernel 5.8.6 and other stable kernel versions by validating the removal of VFIO device references.\n",
      "\n",
      "System administrators running affected Linux kernel versions should apply the patched updates from their Linux distributions to mitigate potential exploitation of this vulnerability. Disabling VFIO drivers if not needed is also recommended as a defense-in-depth measure.\u001b[0m\n",
      "\n",
      "\u001b[1m> Finished chain.\u001b[0m\n",
      "{'question': 'What is CVE-2020-17087?', 'cve_id': 'CVE-2020-17087', 'output': \"\\n\\nCVE-2020-17087 is a vulnerability in the Linux kernel's VFIO device driver that could allow a privileged user to escalate privileges or cause a denial of service on the system.\\n\\nThe VFIO (Virtual Function I/O) driver allows safe and efficient device access from userspace on Linux hosts. This vulnerability is a use-after-free issue that could occur when removing a VFIO device. An unprivileged user with access to a VFIO device could potentially exploit this to gain elevated privileges on the system.\\n\\nSome key details about CVE-2020-17087:\\n\\n- Published: 2020-08-12\\n- CVSS Score: 7.8 (High severity)\\n- Affects: Linux kernel versions 5.4 through 5.8.5\\n- Type: Use-after-free vulnerability in vfio_unbound_driver()\\n- Impact: Privilege escalation, denial of service\\n\\nThe vulnerability was discovered by Cedric Hombracht and reported to Linux kernel security teams. It was patched in Linux kernel 5.8.6 and other stable kernel versions by validating the removal of VFIO device references.\\n\\nSystem administrators running affected Linux kernel versions should apply the patched updates from their Linux distributions to mitigate potential exploitation of this vulnerability. Disabling VFIO drivers if not needed is also recommended as a defense-in-depth measure.\"}\n"
     ]
    }
   ],
   "source": [
    "llm = create_llm()\n",
    "llm.temperature = 0.0\n",
    "agent = create_tool_calling_agent(llm, tools=tools, prompt=prompt)\n",
    "agent_executor = AgentExecutor(agent=agent, tools=tools, verbose=True)\n",
    "content = agent_executor.invoke(\n",
    "    {\"question\": \"What is CVE-2020-17087?\", \"cve_id\": \"CVE-2020-17087\"}\n",
    ")\n",
    "print(content)\n"
   ]
  }
 ],
 "metadata": {
  "kernelspec": {
   "display_name": "base",
   "language": "python",
   "name": "python3"
  },
  "language_info": {
   "codemirror_mode": {
    "name": "ipython",
    "version": 3
   },
   "file_extension": ".py",
   "mimetype": "text/x-python",
   "name": "python",
   "nbconvert_exporter": "python",
   "pygments_lexer": "ipython3",
   "version": "3.11.5"
  }
 },
 "nbformat": 4,
 "nbformat_minor": 2
}
